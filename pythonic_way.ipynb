{
 "cells": [
  {
   "cell_type": "markdown",
   "id": "e2365920-ca46-4d6b-bb96-0b3eb3a5bb80",
   "metadata": {},
   "source": [
    "### <center><u>Being Pythonic</u></center>\n",
    "---\n",
    "A major design philosophy in Python is being Pythonic, an attitude that emphasizes that code should be readable, concise, and use built-in features as much as possible. Let’s look at the following code snippet examples. The first is how you might create a list of 1-10 integer using for loop in Python assuming a more traditional programming approach.\n",
    "```python\n",
    "lst = []\n",
    "for i in range(1,11):\n",
    "    lst.append(i)\n",
    "```\n",
    "I will import <code> <a href='https://ipython.readthedocs.io/en/stable/interactive/magics.html'>timeit</a> </code> library to show how much time a code snippet is taking for its execution. <br>\n",
    "**Note:** comment all print statement before running timeit\n"
   ]
  },
  {
   "cell_type": "code",
   "execution_count": 1,
   "id": "6d3f56e6-bb18-4091-a3c0-ba098ec8b37a",
   "metadata": {},
   "outputs": [],
   "source": [
    "import timeit"
   ]
  },
  {
   "cell_type": "code",
   "execution_count": 2,
   "id": "d56c1ae3-0b0b-437f-aad0-86cbbf39e2d5",
   "metadata": {},
   "outputs": [
    {
     "name": "stdout",
     "output_type": "stream",
     "text": [
      "624 ns ± 4.03 ns per loop (mean ± std. dev. of 7 runs, 1000000 loops each)\n"
     ]
    }
   ],
   "source": [
    "%%timeit\n",
    "\n",
    "lst = []\n",
    "for i in range(1,11):\n",
    "    lst.append(i)\n",
    "#print(lst)"
   ]
  },
  {
   "cell_type": "markdown",
   "id": "787c9297-ea03-4297-a99f-8d0a0afe009a",
   "metadata": {},
   "source": [
    "\n",
    "----\n",
    "**Now I'll will use list comprehension for more reliable code**<br>\n",
    "List comprehension offers a shorter syntax when you want to create a new list based on the values of an existing iterator"
   ]
  },
  {
   "cell_type": "code",
   "execution_count": 3,
   "id": "7a2d3432-ba5b-4130-babb-ffb08598fde3",
   "metadata": {},
   "outputs": [
    {
     "name": "stdout",
     "output_type": "stream",
     "text": [
      "494 ns ± 6.43 ns per loop (mean ± std. dev. of 7 runs, 1000000 loops each)\n"
     ]
    }
   ],
   "source": [
    "%%timeit\n",
    "\n",
    "lst = [x for x in range(1,11)]\n",
    "#print(lst)"
   ]
  },
  {
   "cell_type": "markdown",
   "id": "bbedc7f8-54c8-4715-86de-0b551c752ae0",
   "metadata": {
    "tags": []
   },
   "source": [
    "---\n",
    "\n",
    "Let's create a list (l1) which will contain square of each number from lst list.\n",
    "```python\n",
    "lst = [x for x in range(1,11)]\n",
    "l1 = []\n",
    "def square(lst):\n",
    "    for i in lst:\n",
    "        l1.append(i**2)\n",
    "square(lst)\n",
    "```\n",
    "\n",
    "Above code is a conventional way of making a list but it can be done in more pythonic way by using list comprehension and map function.\n",
    "\n",
    "**map() function**"
   ]
  },
  {
   "cell_type": "code",
   "execution_count": 4,
   "id": "d3a8e7a0-5b6b-42cc-8282-cb36323c2dec",
   "metadata": {},
   "outputs": [
    {
     "name": "stdout",
     "output_type": "stream",
     "text": [
      "[1, 4, 9, 16, 25, 36, 49, 64, 81, 100]\n"
     ]
    }
   ],
   "source": [
    "### %%timeit  \n",
    "\n",
    "lst = [x for x in range(1,11)]\n",
    "\n",
    "def map_square(num):\n",
    "    return num**2\n",
    "l1 = list(map(map_square, lst))\n",
    "\n",
    "print(l1)"
   ]
  },
  {
   "cell_type": "markdown",
   "id": "14dbddad-1306-4932-819f-ce15406ec840",
   "metadata": {},
   "source": [
    "**List Comprehension**"
   ]
  },
  {
   "cell_type": "code",
   "execution_count": 5,
   "id": "c2e55a69-91af-4a83-85bd-c486c7ebd9fd",
   "metadata": {},
   "outputs": [
    {
     "name": "stdout",
     "output_type": "stream",
     "text": [
      "[1, 4, 9, 16, 25, 36, 49, 64, 81, 100]\n"
     ]
    }
   ],
   "source": [
    "lst = [x**2 for x in range(1,11)]\n",
    "print(lst)"
   ]
  },
  {
   "cell_type": "markdown",
   "id": "d2cbf5d0-1f1b-420f-a2c0-842c1458c290",
   "metadata": {},
   "source": [
    "**Note:** Use list comprehension whenever you can because it will be more optimized but try not to write complicated list comprehension otherwise it will reduce readability. \n",
    "But wait! there's a catch if you are dealing with mathematical operations you can use <code> <a href='https://numpy.org/'>numpy</a> </code> library, it is way more faster than list comprehension."
   ]
  },
  {
   "cell_type": "code",
   "execution_count": 7,
   "id": "e331034e-5abc-432c-aa2d-e3ac7d7f6a61",
   "metadata": {},
   "outputs": [
    {
     "name": "stdout",
     "output_type": "stream",
     "text": [
      "[  1   4   9  16  25  36  49  64  81 100]\n"
     ]
    }
   ],
   "source": [
    "import numpy as np\n",
    "print(np.arange(1,11)**2)"
   ]
  },
  {
   "cell_type": "code",
   "execution_count": null,
   "id": "d4c49b99-e61a-4766-93a1-a905a49e0c7c",
   "metadata": {},
   "outputs": [],
   "source": [
    "\n",
    "\n"
   ]
  },
  {
   "cell_type": "code",
   "execution_count": 23,
   "id": "8abc4128-d8f1-4fcf-a298-df98b256c4df",
   "metadata": {},
   "outputs": [],
   "source": [
    "### %%timeit\n",
    "\n",
    "#use this shell to compare execution time"
   ]
  },
  {
   "cell_type": "markdown",
   "id": "d602cffa-ab03-4882-85b2-0f787c7bae9c",
   "metadata": {},
   "source": [
    "----\n",
    "Let's see how can we make each element from range function into string and store it into a list in two ways:"
   ]
  },
  {
   "cell_type": "code",
   "execution_count": 24,
   "id": "c93bd572-51ad-41ca-9278-cf01f65d6ef5",
   "metadata": {},
   "outputs": [
    {
     "name": "stdout",
     "output_type": "stream",
     "text": [
      "2.02 µs ± 72.3 ns per loop (mean ± std. dev. of 7 runs, 100000 loops each)\n"
     ]
    }
   ],
   "source": [
    "### %%timeit\n",
    "lst = [str(x) for x in range(1,11)]\n",
    "\n",
    "print(lst)"
   ]
  },
  {
   "cell_type": "code",
   "execution_count": 25,
   "id": "8f43c0a7-c57b-45b4-a0eb-392e078b8e6f",
   "metadata": {},
   "outputs": [
    {
     "name": "stdout",
     "output_type": "stream",
     "text": [
      "1.72 µs ± 8.46 ns per loop (mean ± std. dev. of 7 runs, 1000000 loops each)\n"
     ]
    }
   ],
   "source": [
    "%%timeit\n",
    "lst = list(map(str,range(1,11)))\n",
    "\n",
    "#print(lst)"
   ]
  },
  {
   "cell_type": "markdown",
   "id": "c6ac8525-95f5-4504-8e74-3755244f3660",
   "metadata": {},
   "source": [
    "- <b> Now let's combine map and filter function with lambda function </b>\n",
    "        "
   ]
  },
  {
   "cell_type": "code",
   "execution_count": 27,
   "id": "f9a24fbd-e2c4-4005-bd13-2325ea5849d5",
   "metadata": {},
   "outputs": [],
   "source": [
    " num = [1,2,3,4,5,6,7,8,9,10]"
   ]
  },
  {
   "cell_type": "code",
   "execution_count": 39,
   "id": "d674598a-dcaf-4f1c-ade6-f776db3b136d",
   "metadata": {},
   "outputs": [
    {
     "name": "stdout",
     "output_type": "stream",
     "text": [
      "[1, 4, 9, 16, 25, 36, 49, 64, 81, 100]\n"
     ]
    }
   ],
   "source": [
    "l2 = list(map(lambda n: n**2, num)) #this code will work faster if we will use it as generator rather than making a list out of it\n",
    "         \n",
    "print(l2)"
   ]
  },
  {
   "cell_type": "markdown",
   "id": "d3b06773-06d2-4ca6-807f-ccc91ebfd513",
   "metadata": {},
   "source": [
    "**Filter() Function**"
   ]
  },
  {
   "cell_type": "code",
   "execution_count": 35,
   "id": "ddcf0476-c0d4-48e7-9b7b-a2bbf61b06c1",
   "metadata": {},
   "outputs": [
    {
     "name": "stdout",
     "output_type": "stream",
     "text": [
      "[2, 4, 6, 8, 10]\n"
     ]
    }
   ],
   "source": [
    "def check_even(n):\n",
    "    return n%2 == 0\n",
    "l2 = list(filter(check_even, num)) \n",
    "print(l2)"
   ]
  },
  {
   "cell_type": "code",
   "execution_count": 44,
   "id": "aaccd3fb-eefa-4590-9f69-bbca45cdbb29",
   "metadata": {},
   "outputs": [
    {
     "name": "stdout",
     "output_type": "stream",
     "text": [
      "[2, 4, 6, 8, 10]\n"
     ]
    }
   ],
   "source": [
    "l2 = list(filter(lambda n: n%2 ==0, num)) #this code will work faster if we will use it as generator rather than making a list out of it\n",
    "         \n",
    "print(l2)"
   ]
  },
  {
   "cell_type": "markdown",
   "id": "e18788a7",
   "metadata": {},
   "source": [
    "one more use of filter with args arguments"
   ]
  },
  {
   "cell_type": "code",
   "execution_count": 1,
   "id": "f49583da",
   "metadata": {},
   "outputs": [
    {
     "data": {
      "text/plain": [
       "[2, 4]"
      ]
     },
     "execution_count": 1,
     "metadata": {},
     "output_type": "execute_result"
    }
   ],
   "source": [
    "def myfunc(*args):\n",
    "    return list(filter(lambda x: x%2 == 0, args))\n",
    "myfunc(1,2,3,4,5)"
   ]
  },
  {
   "cell_type": "markdown",
   "id": "18a417d6-32d4-4130-b8c8-a8fa33c7e73b",
   "metadata": {},
   "source": [
    "### <code>The Zen of Python</code>"
   ]
  },
  {
   "cell_type": "code",
   "execution_count": 43,
   "id": "14561c11-9437-4640-bd55-f78adb73cba8",
   "metadata": {},
   "outputs": [
    {
     "name": "stdout",
     "output_type": "stream",
     "text": [
      "The Zen of Python, by Tim Peters\n",
      "\n",
      "Beautiful is better than ugly.\n",
      "Explicit is better than implicit.\n",
      "Simple is better than complex.\n",
      "Complex is better than complicated.\n",
      "Flat is better than nested.\n",
      "Sparse is better than dense.\n",
      "Readability counts.\n",
      "Special cases aren't special enough to break the rules.\n",
      "Although practicality beats purity.\n",
      "Errors should never pass silently.\n",
      "Unless explicitly silenced.\n",
      "In the face of ambiguity, refuse the temptation to guess.\n",
      "There should be one-- and preferably only one --obvious way to do it.\n",
      "Although that way may not be obvious at first unless you're Dutch.\n",
      "Now is better than never.\n",
      "Although never is often better than *right* now.\n",
      "If the implementation is hard to explain, it's a bad idea.\n",
      "If the implementation is easy to explain, it may be a good idea.\n",
      "Namespaces are one honking great idea -- let's do more of those!\n"
     ]
    }
   ],
   "source": [
    "import this"
   ]
  },
  {
   "cell_type": "markdown",
   "id": "fc5ab398-5d54-4037-979c-1e81ecdd2694",
   "metadata": {},
   "source": [
    "----------\n",
    "<center> For being more Pythonic practice more, explore more and<code><a href='https://docs.python-guide.org/writing/style/'>Click Here</a></code></center>\n",
    "<center style=\"font-size:50px;\"> <b>THANK YOU!!!</b></center>"
   ]
  },
  {
   "cell_type": "code",
   "execution_count": null,
   "id": "31060dc6-9d09-49e1-a804-26af53593cfa",
   "metadata": {},
   "outputs": [],
   "source": []
  },
  {
   "cell_type": "code",
   "execution_count": null,
   "id": "70238ca8-4713-4446-be75-fbb86dfd2d4a",
   "metadata": {},
   "outputs": [],
   "source": []
  }
 ],
 "metadata": {
  "kernelspec": {
   "display_name": "Python 3 (ipykernel)",
   "language": "python",
   "name": "python3"
  },
  "language_info": {
   "codemirror_mode": {
    "name": "ipython",
    "version": 3
   },
   "file_extension": ".py",
   "mimetype": "text/x-python",
   "name": "python",
   "nbconvert_exporter": "python",
   "pygments_lexer": "ipython3",
   "version": "3.9.7"
  }
 },
 "nbformat": 4,
 "nbformat_minor": 5
}
